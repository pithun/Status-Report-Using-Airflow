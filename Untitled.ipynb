{
 "cells": [
  {
   "cell_type": "code",
   "execution_count": 9,
   "id": "685c4aa6",
   "metadata": {},
   "outputs": [],
   "source": [
    "import datetime as dt"
   ]
  },
  {
   "cell_type": "code",
   "execution_count": 15,
   "id": "accfa113",
   "metadata": {},
   "outputs": [],
   "source": [
    "today = dt.date.today()\n",
    "start_day = today - dt.timedelta(days=7)\n",
    "start_day = start_day.strftime(\"%Y-%m-%d\")"
   ]
  },
  {
   "cell_type": "code",
   "execution_count": 16,
   "id": "ec5499ce",
   "metadata": {},
   "outputs": [
    {
     "data": {
      "text/plain": [
       "'2024-01-07'"
      ]
     },
     "execution_count": 16,
     "metadata": {},
     "output_type": "execute_result"
    }
   ],
   "source": [
    "start_day"
   ]
  },
  {
   "cell_type": "code",
   "execution_count": 14,
   "id": "d32ad271",
   "metadata": {},
   "outputs": [
    {
     "ename": "TypeError",
     "evalue": "unsupported operand type(s) for -: 'datetime.date' and 'int'",
     "output_type": "error",
     "traceback": [
      "\u001b[1;31m---------------------------------------------------------------------------\u001b[0m",
      "\u001b[1;31mTypeError\u001b[0m                                 Traceback (most recent call last)",
      "Cell \u001b[1;32mIn[14], line 1\u001b[0m\n\u001b[1;32m----> 1\u001b[0m dt\u001b[38;5;241m.\u001b[39mdate\u001b[38;5;241m.\u001b[39mtoday() \u001b[38;5;241m-\u001b[39m \u001b[38;5;241m7\u001b[39m\n",
      "\u001b[1;31mTypeError\u001b[0m: unsupported operand type(s) for -: 'datetime.date' and 'int'"
     ]
    }
   ],
   "source": [
    "dt.date.today() - 7"
   ]
  },
  {
   "cell_type": "code",
   "execution_count": 13,
   "id": "0c214c7a",
   "metadata": {},
   "outputs": [
    {
     "name": "stdout",
     "output_type": "stream",
     "text": [
      "2024-01-14\n"
     ]
    }
   ],
   "source": [
    "import datetime as dt\n",
    "\n",
    "today = dt.date.today()\n",
    "formatted_date = today.strftime(\"%Y-%m-%d\")\n",
    "\n",
    "print(formatted_date)\n"
   ]
  },
  {
   "cell_type": "code",
   "execution_count": 11,
   "id": "009664ba",
   "metadata": {},
   "outputs": [],
   "source": [
    "import pandas as pd\n",
    "\n",
    "# Sample DataFrame\n",
    "data = {\n",
    "    'Date': ['2022-01-01', '2022-01-02', '2022-01-03', '2022-01-04'],\n",
    "    'City': ['A', 'B', 'D', 'C'],\n",
    "    'Value': [10, 20, 15, 25]\n",
    "}\n",
    "\n",
    "df = pd.DataFrame(data)\n",
    "\n",
    "# Set the desired columns as the index\n",
    "df.set_index(['Date'], inplace=True)\n",
    "\n",
    "# Transpose the DataFrame\n",
    "transposed_df = df.transpose()\n",
    "\n",
    "\n",
    "transposed_df['c'] = [10, 20]"
   ]
  },
  {
   "cell_type": "code",
   "execution_count": 12,
   "id": "4f168811",
   "metadata": {},
   "outputs": [
    {
     "data": {
      "text/html": [
       "<div>\n",
       "<style scoped>\n",
       "    .dataframe tbody tr th:only-of-type {\n",
       "        vertical-align: middle;\n",
       "    }\n",
       "\n",
       "    .dataframe tbody tr th {\n",
       "        vertical-align: top;\n",
       "    }\n",
       "\n",
       "    .dataframe thead th {\n",
       "        text-align: right;\n",
       "    }\n",
       "</style>\n",
       "<table border=\"1\" class=\"dataframe\">\n",
       "  <thead>\n",
       "    <tr style=\"text-align: right;\">\n",
       "      <th>Date</th>\n",
       "      <th>2022-01-01</th>\n",
       "      <th>2022-01-02</th>\n",
       "      <th>2022-01-03</th>\n",
       "      <th>2022-01-04</th>\n",
       "      <th>c</th>\n",
       "    </tr>\n",
       "  </thead>\n",
       "  <tbody>\n",
       "    <tr>\n",
       "      <th>City</th>\n",
       "      <td>A</td>\n",
       "      <td>B</td>\n",
       "      <td>D</td>\n",
       "      <td>C</td>\n",
       "      <td>10</td>\n",
       "    </tr>\n",
       "    <tr>\n",
       "      <th>Value</th>\n",
       "      <td>10</td>\n",
       "      <td>20</td>\n",
       "      <td>15</td>\n",
       "      <td>25</td>\n",
       "      <td>20</td>\n",
       "    </tr>\n",
       "  </tbody>\n",
       "</table>\n",
       "</div>"
      ],
      "text/plain": [
       "Date  2022-01-01 2022-01-02 2022-01-03 2022-01-04   c\n",
       "City           A          B          D          C  10\n",
       "Value         10         20         15         25  20"
      ]
     },
     "execution_count": 12,
     "metadata": {},
     "output_type": "execute_result"
    }
   ],
   "source": [
    "transposed_df"
   ]
  },
  {
   "cell_type": "code",
   "execution_count": 10,
   "id": "55c301bf",
   "metadata": {},
   "outputs": [],
   "source": [
    "import seaborn as sns"
   ]
  },
  {
   "cell_type": "code",
   "execution_count": 15,
   "id": "7f11b292",
   "metadata": {},
   "outputs": [
    {
     "data": {
      "text/plain": [
       "<Axes: ylabel='c'>"
      ]
     },
     "execution_count": 15,
     "metadata": {},
     "output_type": "execute_result"
    },
    {
     "data": {
      "image/png": "[encoded data removed]",
      "text/plain": [
       "<Figure size 640x480 with 1 Axes>"
      ]
     },
     "metadata": {},
     "output_type": "display_data"
    }
   ],
   "source": [
    "sns.barplot(x=transposed_df.index, y=transposed_df.c)"
   ]
  },
  {
   "cell_type": "code",
   "execution_count": 17,
   "id": "4cabaec8",
   "metadata": {},
   "outputs": [],
   "source": [
    "df = pd.DataFrame({\n",
    "    'A': [1, 2, 3],\n",
    "    'B': [4, 5, 6],\n",
    "    'C': [7, 8, 9]\n",
    "})\n",
    "\n",
    "# Sum along the columns (axis=1)\n",
    "df['c'] = df.sum(axis=1)\n"
   ]
  },
  {
   "cell_type": "code",
   "execution_count": 18,
   "id": "b7f5a569",
   "metadata": {},
   "outputs": [
    {
     "data": {
      "text/html": [
       "<div>\n",
       "<style scoped>\n",
       "    .dataframe tbody tr th:only-of-type {\n",
       "        vertical-align: middle;\n",
       "    }\n",
       "\n",
       "    .dataframe tbody tr th {\n",
       "        vertical-align: top;\n",
       "    }\n",
       "\n",
       "    .dataframe thead th {\n",
       "        text-align: right;\n",
       "    }\n",
       "</style>\n",
       "<table border=\"1\" class=\"dataframe\">\n",
       "  <thead>\n",
       "    <tr style=\"text-align: right;\">\n",
       "      <th></th>\n",
       "      <th>A</th>\n",
       "      <th>B</th>\n",
       "      <th>C</th>\n",
       "      <th>c</th>\n",
       "    </tr>\n",
       "  </thead>\n",
       "  <tbody>\n",
       "    <tr>\n",
       "      <th>0</th>\n",
       "      <td>1</td>\n",
       "      <td>4</td>\n",
       "      <td>7</td>\n",
       "      <td>12</td>\n",
       "    </tr>\n",
       "    <tr>\n",
       "      <th>1</th>\n",
       "      <td>2</td>\n",
       "      <td>5</td>\n",
       "      <td>8</td>\n",
       "      <td>15</td>\n",
       "    </tr>\n",
       "    <tr>\n",
       "      <th>2</th>\n",
       "      <td>3</td>\n",
       "      <td>6</td>\n",
       "      <td>9</td>\n",
       "      <td>18</td>\n",
       "    </tr>\n",
       "  </tbody>\n",
       "</table>\n",
       "</div>"
      ],
      "text/plain": [
       "   A  B  C   c\n",
       "0  1  4  7  12\n",
       "1  2  5  8  15\n",
       "2  3  6  9  18"
      ]
     },
     "execution_count": 18,
     "metadata": {},
     "output_type": "execute_result"
    }
   ],
   "source": [
    "df"
   ]
  },
  {
   "cell_type": "code",
   "execution_count": 39,
   "id": "ddaa0afa",
   "metadata": {},
   "outputs": [],
   "source": [
    "import pandas as pd\n",
    "import numpy as np\n",
    "import matplotlib.pyplot as plt\n",
    "import seaborn as sns\n",
    "import datetime as dt\n",
    "import pathlib\n",
    "\n",
    "\n",
    "\n",
    "# Connect to the Google sheet directly using Pandas\n",
    "# We can actually use arguments in the python function used in airflow DAG.\n",
    "def connect_to_sheet():\n",
    "    sheet_id = '18pvJnuWi0JH0pwEWOIf2vsarIRN8dZ94VBq_ZlaJjGI'\n",
    "    sheet_name = 'Norms'\n",
    "    url = f'https://docs.google.com/spreadsheets/d/{sheet_id}/gviz/tq?tqx=out:csv&sheet={sheet_name}'\n",
    "    df = pd.read_csv(url, parse_dates = ['Date'], infer_datetime_format = True) \n",
    "    df['Date'] = pd.to_datetime(df['Date'], format='%Y-%m-%d')\n",
    "    return df\n",
    "\n",
    "# Create Visualizations and report on a weekly basis from startdate of sheet\n",
    "def Generate_Report():\n",
    "    df=connect_to_sheet()\n",
    "    # gets the visualizations from a week from today\n",
    "    today = dt.date.today()\n",
    "    start_day = today - dt.timedelta(days=7)\n",
    "    today = today.strftime(\"%Y-%m-%d\")\n",
    "    start_day = start_day.strftime(\"%Y-%m-%d\")\n",
    "\n",
    "    # selecting data from past 7 days till today\n",
    "    needed_data = df[np.logical_and(df['Date'] >= start_day, df['Date'] <= today)]\n",
    "    return needed_data, today\n",
    "\n",
    "def Generate_vizes():\n",
    "    unpack =Generate_Report()\n",
    "    data = unpack[0]\n",
    "\n",
    "    # Applying function to replace Yes with 1 and No with 0 and also filling Na with 0\n",
    "    data.fillna(0, inplace=True)\n",
    "    mapping_dict = {'Yes': 1, 'No': 0}\n",
    "    df_mapped = data.applymap(lambda x: mapping_dict.get(x, x))\n",
    "\n",
    "    # Making directory to store saved images\n",
    "    #pathlib.Path(\"/mnt/Users/User/Viz\").mkdir(parents=True, exist_ok=True)\n",
    "    # 1. I have to transform the data such that I can get the day count of each norm\n",
    "    # Set the desired columns as the index\n",
    "    df_mapped.set_index(['Date'], inplace=True)\n",
    "    df_mapped = df_mapped.iloc[:,1:6]\n",
    "    df_use=df_mapped.copy().transpose()\n",
    "    #display(df_use)\n",
    "\n",
    "    # Creating the Day_count\n",
    "    df_use['Day_Count']=df_use.sum(axis=1)\n",
    "\n",
    "    # Creating Visualization\n",
    "    ax=sns.barplot(x=df_use.index, y=df_use.Day_Count)\n",
    "    for container in ax.containers:\n",
    "        ax.bar_label(container, fmt='%d', label_type='edge', color='black')\n",
    "    plt.xlabel('Day_Count')\n",
    "    plt.xlabel('Norm')\n",
    "    plt.xticks(rotation=45)\n",
    "    plt.show()\n"
   ]
  },
  {
   "cell_type": "code",
   "execution_count": 40,
   "id": "5815c0a8",
   "metadata": {},
   "outputs": [
    {
     "data": {
      "image/png": "[encoded data removed]",
      "text/plain": [
       "<Figure size 640x480 with 1 Axes>"
      ]
     },
     "metadata": {},
     "output_type": "display_data"
    }
   ],
   "source": [
    "Generate_vizes()"
   ]
  },
  {
   "cell_type": "code",
   "execution_count": 22,
   "id": "ff2ef604",
   "metadata": {},
   "outputs": [
    {
     "name": "stdout",
     "output_type": "stream",
     "text": [
      "   Column1  Column2\n",
      "0        1        0\n",
      "1        0        1\n",
      "2        1        0\n"
     ]
    }
   ],
   "source": [
    "import pandas as pd\n",
    "\n",
    "# Assuming df is your DataFrame\n",
    "df = pd.DataFrame({\n",
    "    'Column1': ['Yes', 'No', 'Yes'],\n",
    "    'Column2': ['No', 'Yes', 'No']\n",
    "})\n",
    "\n",
    "# Mapping dictionary\n",
    "mapping_dict = {'Yes': 1, 'No': 0}\n",
    "\n",
    "# Apply the mapping to all columns\n",
    "df_mapped = df.applymap(lambda x: mapping_dict.get(x, x))\n",
    "\n",
    "# Display the result\n",
    "print(df_mapped)\n"
   ]
  },
  {
   "cell_type": "code",
   "execution_count": null,
   "id": "7106226a",
   "metadata": {},
   "outputs": [],
   "source": []
  }
 ],
 "metadata": {
  "kernelspec": {
   "display_name": "Python 3 (ipykernel)",
   "language": "python",
   "name": "python3"
  },
  "language_info": {
   "codemirror_mode": {
    "name": "ipython",
    "version": 3
   },
   "file_extension": ".py",
   "mimetype": "text/x-python",
   "name": "python",
   "nbconvert_exporter": "python",
   "pygments_lexer": "ipython3",
   "version": "3.11.3"
  }
 },
 "nbformat": 4,
 "nbformat_minor": 5
}
